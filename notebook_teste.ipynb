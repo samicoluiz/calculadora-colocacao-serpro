{
 "cells": [
  {
   "cell_type": "code",
   "execution_count": 116,
   "metadata": {},
   "outputs": [
    {
     "name": "stdout",
     "output_type": "stream",
     "text": [
      "(2811, 17)\n"
     ]
    }
   ],
   "source": [
    "import pandas as pd\n",
    "\n",
    "with open('db_serpro.txt', 'r') as file:\n",
    "    lista = file.readline().strip(\"(\").strip(\")\").split(\"),(\")\n",
    "    lista = [i.replace(\"'\", \"\").replace(\"\\n\", \"\") for i in lista]\n",
    "    lista = [i.split(\",\") for i in lista]\n",
    "\n",
    "df = pd.DataFrame(lista, columns=['inscricao', 'nome', 'nf_portugues', 'acertos_portugues', 'nf_ingles', 'acertos_ingles', 'nf_estatistica', 'acertos_estatistica', 'nf_logica', 'acertos_logica', 'nf_legislacao', 'acertos_legislacao', 'nf_conhecimentos_basicos', 'acertos_conhecimentos_basicos', 'nf_conhecimentos_especificos', 'acertos_conhecimentos_especificos', 'nota_final_fase_1', 'n-sei'])\n",
    "df.drop(columns=['n-sei'], inplace=True)\n",
    "df.sort_values(by=['nota_final_fase_1'], ascending=False, inplace=True)\n",
    "df.reset_index(drop=True, inplace=True)\n",
    "df['nota_final_fase_1'] = df['nota_final_fase_1'].astype(float)\n",
    "# df.to_csv('db_serpro.csv', index=False)\n",
    "print(df.shape)"
   ]
  },
  {
   "cell_type": "code",
   "execution_count": 117,
   "metadata": {},
   "outputs": [],
   "source": [
    "with open('resultado1-1.txt', 'r') as f:\n",
    "    text = f.read()\n",
    "\n",
    "text = text.replace('\\n', '').replace('\\x0c', '').replace('  ', ' ')\n",
    "text = text.split('/')\n",
    "text = [x.strip(\" \").split(',') for x in text]\n",
    "df1_1 = pd.DataFrame(text, columns=['inscricao', 'nome', 'nf_portugues', 'acertos_portugues', 'nf_ingles', 'acertos_ingles', 'nf_estatistica', 'acertos_estatistica', 'nf_logica', 'acertos_logica', 'nf_legislacao', 'acertos_legislacao', 'nf_conhecimentos_basicos', 'acertos_conhecimentos_basicos', 'nf_conhecimentos_especificos', 'acertos_conhecimentos_especificos', 'nota_final_fase_1'])\n",
    "df1_1['nota_final_fase_1'] = df1_1['nota_final_fase_1'].astype(float)\n"
   ]
  },
  {
   "cell_type": "code",
   "execution_count": 118,
   "metadata": {},
   "outputs": [],
   "source": [
    "df = pd.concat([df, df1_1])\n",
    "df.sort_values(by=['nota_final_fase_1'], ascending=False, inplace=True)\n",
    "df.reset_index(drop=True, inplace=True)\n",
    "df.to_csv('db_serpro_alt.csv', index=False)"
   ]
  },
  {
   "cell_type": "code",
   "execution_count": 119,
   "metadata": {},
   "outputs": [
    {
     "name": "stdout",
     "output_type": "stream",
     "text": [
      "(3457, 2)\n"
     ]
    }
   ],
   "source": [
    "with open('resultado2.txt', 'r') as f:\n",
    "    text = f.read()\n",
    "\n",
    "text = text.replace('\\n', '').replace('\\x0c', '').replace('  ', ' ')\n",
    "text = text.split('/')\n",
    "text = [x.strip(\" \").split(',') for x in text]\t\n",
    "df2 = pd.DataFrame(text)\n",
    "df2.columns = ['inscricao', 'nome', 'nota_final_fase_2']\n",
    "df2.drop(columns=['nome'], inplace=True)\n",
    "df2.sort_values(by=['nota_final_fase_2'], ascending=False, inplace=True)\n",
    "df2.reset_index(drop=True, inplace=True)\n",
    "# df2.to_csv('db_serpro2.csv', index=False)\n",
    "df2['nota_final_fase_2'] = df2['nota_final_fase_2'].astype(float)\n",
    "df2.head(5)\n",
    "print(df2.shape)"
   ]
  },
  {
   "cell_type": "code",
   "execution_count": 124,
   "metadata": {},
   "outputs": [
    {
     "data": {
      "text/plain": [
       "(3101, 19)"
      ]
     },
     "execution_count": 124,
     "metadata": {},
     "output_type": "execute_result"
    }
   ],
   "source": [
    "df3 = pd.merge(df, df2, left_on='inscricao', right_on='inscricao', how='inner')\n",
    "df3['nota_final_fase_1'] = df3['nota_final_fase_1'].astype(float)\n",
    "df3['nota_final_fase_2'] = df3['nota_final_fase_2'].astype(float)\n",
    "df3['nf_conhecimentos_basicos'] = df3['nf_conhecimentos_basicos'].astype(float)\n",
    "df3['nf_conhecimentos_especificos'] = df3['nf_conhecimentos_especificos'].astype(float)\n",
    "df3['nota_final_fase_1'] = df3['nota_final_fase_1'].astype(float)\n",
    "\n",
    "\n",
    "df3['nota_final'] = df3['nf_conhecimentos_basicos'] + (2*df3['nf_conhecimentos_especificos']) + df3['nota_final_fase_2']\n",
    "df3.sort_values(by=['nota_final', \"nota_final_fase_2\", \"nf_conhecimentos_especificos\"], ascending=[False, False, False], inplace=True)\n",
    "df3.drop_duplicates(subset=['inscricao'], inplace=True)\n",
    "df3.reset_index(drop=True, inplace=True)\n",
    "df3.to_csv('db_serpro3.csv', index=False)\n",
    "# select only the relevant columns\n",
    "df3_lean = df3[['inscricao', 'nome', 'nf_conhecimentos_basicos', 'nf_conhecimentos_especificos', 'nota_final_fase_2', 'nota_final']]\n",
    "df3_lean.reset_index(drop=True, inplace=True)\n",
    "df3_lean.to_csv('db_serpro3_lean.csv', index=False)\n",
    "# df3.dropna(inplace=True)\n",
    "df3.shape"
   ]
  },
  {
   "cell_type": "code",
   "execution_count": 121,
   "metadata": {},
   "outputs": [],
   "source": []
  }
 ],
 "metadata": {
  "kernelspec": {
   "display_name": "py310",
   "language": "python",
   "name": "python3"
  },
  "language_info": {
   "codemirror_mode": {
    "name": "ipython",
    "version": 3
   },
   "file_extension": ".py",
   "mimetype": "text/x-python",
   "name": "python",
   "nbconvert_exporter": "python",
   "pygments_lexer": "ipython3",
   "version": "3.10.11"
  }
 },
 "nbformat": 4,
 "nbformat_minor": 2
}
